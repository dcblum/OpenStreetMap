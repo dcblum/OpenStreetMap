{
 "cells": [
  {
   "cell_type": "markdown",
   "metadata": {},
   "source": [
    "<img align=\"right\" src=\"https://raw.githubusercontent.com/dcblum/OpenStreetMap/master/IrvineMapBoundaries.PNG\" title=\"Irvine Map Extract Area\">\n",
    "\n",
    "# OpenStreetMap Case Study with SQL\n",
    "\n",
    "### Map Area: Irvine, California\n",
    "\n",
    "City Boundaries:\n",
    "* https://www.openstreetmap.org/relation/114485\n",
    "\n",
    "Map Extract Website:\n",
    "* https://mapzen.com/data/metro-extracts-alt/\n",
    "\n",
    "The Map Extract data extends beyond Irvine City limits in the shape of a rectangle. For the purpose of this dataset the any data in the given rectangular picture is considered to be in Irvine.\n",
    "\n",
    "#### Contents\n",
    " - [Problems Encountered](#problems-encountered)"
   ]
  },
  {
   "cell_type": "markdown",
   "metadata": {
    "collapsed": true
   },
   "source": [
    "### Problems Encountered:\n",
    "\n",
    "After running the data agaisnt the given data.py file, a few problems were found:\n",
    "* Use of \"St.\" indicating both \"Street\" and \"Saint\"\n",
    "* Unicode street data containing non-real street names ('Rue Jean Jaur/xe8s')"
   ]
  },
  {
   "cell_type": "markdown",
   "metadata": {
    "collapsed": true
   },
   "source": [
    " Number of Unique Users:\n",
    "        2315"
   ]
  },
  {
   "cell_type": "code",
   "execution_count": null,
   "metadata": {
    "collapsed": false
   },
   "outputs": [],
   "source": []
  },
  {
   "cell_type": "code",
   "execution_count": null,
   "metadata": {
    "collapsed": true
   },
   "outputs": [],
   "source": []
  }
 ],
 "metadata": {
  "kernelspec": {
   "display_name": "Python 2",
   "language": "python",
   "name": "python2"
  },
  "language_info": {
   "codemirror_mode": {
    "name": "ipython",
    "version": 2
   },
   "file_extension": ".py",
   "mimetype": "text/x-python",
   "name": "python",
   "nbconvert_exporter": "python",
   "pygments_lexer": "ipython2",
   "version": "2.7.11"
  }
 },
 "nbformat": 4,
 "nbformat_minor": 0
}
