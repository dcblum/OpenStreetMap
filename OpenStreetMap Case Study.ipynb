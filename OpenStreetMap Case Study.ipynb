{
 "cells": [
  {
   "cell_type": "markdown",
   "metadata": {},
   "source": [
    "<img align=\"right\" src=\"https://raw.githubusercontent.com/dcblum/OpenStreetMap/master/IrvineMapBoundaries.PNG\" title=\"Irvine Map Extract Area\">\n",
    "\n",
    "# OpenStreetMap Case Study with SQL\n",
    "\n",
    "### Map Area: Irvine, California\n",
    "\n",
    "City Boundaries:\n",
    "* https://www.openstreetmap.org/relation/114485\n",
    "\n",
    "Map Extract Website:\n",
    "* https://mapzen.com/data/metro-extracts-alt/\n",
    "\n",
    "The Map Extract data extends beyond Irvine City limits in the shape of a rectangle. For the purpose of this dataset the any data in the given rectangular picture is considered to be in Irvine.\n",
    "\n",
    "#### Contents\n",
    " - [Problems Encountered](#problems-encountered)"
   ]
  },
  {
   "cell_type": "markdown",
   "metadata": {
    "collapsed": true
   },
   "source": [
    "### Problems Encountered:\n",
    "\n",
    "After running the data agaisnt the given data.py file, a few problems were found:\n",
    "* Inconsistent use of abbreviations: ex. \"Rd.\", \"Rd\", and \"Road\" to all indicate \"Road\"\n",
    "* Use of \"St.\" indicating both \"Street\" and \"Saint\"\n",
    "* Unicode street and postcode data containing (street = 'Rue Jean Jaur\\xe8s' and postcode = '92626\\xad)\n",
    "* Postcode data contaning non-integer characters such as letters and hyphens: ex. \"CA 92701\" and \"92610-3437\""
   ]
  },
  {
   "cell_type": "markdown",
   "metadata": {
    "collapsed": true
   },
   "source": [
    " Number of Unique Users:\n",
    "        2315"
   ]
  },
  {
   "cell_type": "markdown",
   "metadata": {
    "collapsed": false
   },
   "source": [
    "### Street Names:\n",
    "\n",
    "The OSM file of Irvine was audited via audit.py to help correct inconsistent use of abbreviations. \n",
    "\n",
    "To help filter results, all street names contained in list \"expected\" were skipped during the auditing process. Names were added by the user to the \"expected\" list after each audit to further filter results."
   ]
  },
  {
   "cell_type": "code",
   "execution_count": 203,
   "metadata": {
    "collapsed": true
   },
   "outputs": [],
   "source": [
    "expected = [\"Street\", \"Avenue\", \"Boulevard\", \"Drive\", \"Court\", \"Place\", \"Square\", \"Lane\", \"Road\", \"Trail\", \"Parkway\", \"Ridge\", \n",
    "            \"Commons\", \"Way\", \"Vista\", \"Terrace\", \"Circle\", \"Glen\", \"Grove\", \"Hill\", \"South\", \"East\", \"West\", \"North\", \"Tree\", \n",
    "            \"Valley\", \"Creek\", \"Canyon\", \"Brook\", \"Bloom\", \"Springs\", \"Verde\", \"Arbor\", \"Center\", \"Loop\"]"
   ]
  },
  {
   "cell_type": "code",
   "execution_count": 216,
   "metadata": {
    "collapsed": false,
    "scrolled": true
   },
   "outputs": [
    {
     "data": {
      "text/html": [
       "<table border=\"1\" class=\"dataframe\">\n",
       "  <thead>\n",
       "    <tr style=\"text-align: right;\">\n",
       "      <th>Postcode</th>\n",
       "      <th>Count</th>\n",
       "    </tr>\n",
       "  </thead>\n",
       "  <tbody>\n",
       "    <tr>\n",
       "      <td>92630</td>\n",
       "      <td>14813</td>\n",
       "    </tr>\n",
       "    <tr>\n",
       "      <td>92620</td>\n",
       "      <td>7506</td>\n",
       "    </tr>\n",
       "    <tr>\n",
       "      <td>92618</td>\n",
       "      <td>7236</td>\n",
       "    </tr>\n",
       "    <tr>\n",
       "      <td>92602</td>\n",
       "      <td>4780</td>\n",
       "    </tr>\n",
       "    <tr>\n",
       "      <td>92606</td>\n",
       "      <td>2350</td>\n",
       "    </tr>\n",
       "    <tr>\n",
       "      <td>92610</td>\n",
       "      <td>1601</td>\n",
       "    </tr>\n",
       "    <tr>\n",
       "      <td>92604</td>\n",
       "      <td>992</td>\n",
       "    </tr>\n",
       "    <tr>\n",
       "      <td>92614</td>\n",
       "      <td>869</td>\n",
       "    </tr>\n",
       "    <tr>\n",
       "      <td>92603</td>\n",
       "      <td>738</td>\n",
       "    </tr>\n",
       "    <tr>\n",
       "      <td>92782</td>\n",
       "      <td>700</td>\n",
       "    </tr>\n",
       "  </tbody>\n",
       "</table>"
      ],
      "text/plain": [
       "<IPython.core.display.HTML object>"
      ]
     },
     "metadata": {},
     "output_type": "display_data"
    }
   ],
   "source": [
    "import sqlite3\n",
    "import pandas as pd\n",
    "import matplotlib.pyplot as plt\n",
    "import seaborn as sns\n",
    "\n",
    "%matplotlib inline\n",
    "\n",
    "# Fetch records from the database\n",
    "db = sqlite3.connect(\"IrvineMaps.db\")\n",
    "c = db.cursor()\n",
    "QUERY = ( \n",
    "    \"SELECT tags.value, COUNT(*) as count \"\n",
    "    \"FROM (SELECT * FROM nodes_tags UNION ALL SELECT * FROM ways_tags) tags \"\n",
    "    \"WHERE tags.key='postcode' \"\n",
    "    \"GROUP BY tags.value \"\n",
    "    \"ORDER BY count DESC \"\n",
    "    \"LIMIT 10;\"\n",
    "    )\n",
    "c.execute(QUERY)\n",
    "rows = c.fetchall()\n",
    "    \n",
    "postcodes_df = pd.DataFrame(rows)\n",
    "postcodes_df.columns = ['Postcode', 'Count']\n",
    "from IPython.display import display, HTML\n",
    "display(HTML(postcodes_df.to_html(index=False)))"
   ]
  },
  {
   "cell_type": "code",
   "execution_count": 205,
   "metadata": {
    "collapsed": false
   },
   "outputs": [
    {
     "data": {
      "image/png": "[encoded data removed]",
      "text/plain": [
       "<matplotlib.figure.Figure at 0x16a1d4a8>"
      ]
     },
     "metadata": {},
     "output_type": "display_data"
    }
   ],
   "source": [
    "sns.barplot(x=postcodes_df['Count'], y=postcodes_df[\"Postcode\"], orient='h', order = postcodes_df['Postcode'], palette=\"Blues_d\")\n",
    "sns.axlabel(\"Count\", \"Postcode\")\n",
    "\n",
    "plt.title(\"Top 10 Postcodes\")\n",
    "plt.show()"
   ]
  },
  {
   "cell_type": "code",
   "execution_count": 206,
   "metadata": {
    "collapsed": false
   },
   "outputs": [
    {
     "name": "stdout",
     "output_type": "stream",
     "text": [
      "                 City  Count\n",
      "0              Irvine  25346\n",
      "1         Lake Forest  14552\n",
      "2      Foothill Ranch   1601\n",
      "3              Tustin   1012\n",
      "4  Wólka Niedźwiedzka    116\n",
      "5           Santa Ana    106\n",
      "6              Orange     92\n",
      "7       Mission Viejo     60\n",
      "8          Costa Mesa     54\n",
      "9       Newport Beach     40\n"
     ]
    }
   ],
   "source": [
    "QUERY = ( \n",
    "    \"SELECT tags.value, COUNT(*) as count \"\n",
    "    \"FROM (SELECT * FROM nodes_tags UNION ALL SELECT * FROM ways_tags) tags \"\n",
    "    \"WHERE tags.key LIKE '%city' \"\n",
    "    \"GROUP BY tags.value \"\n",
    "    \"ORDER BY count DESC \"\n",
    "    \"LIMIT 10;\"\n",
    "    )\n",
    "c.execute(QUERY)\n",
    "rows = c.fetchall()\n",
    "    \n",
    "cities_df = pd.DataFrame(rows)\n",
    "cities_df.columns = ['City', 'Count']\n",
    "print cities_df"
   ]
  },
  {
   "cell_type": "code",
   "execution_count": 208,
   "metadata": {
    "collapsed": false
   },
   "outputs": [
    {
     "data": {
      "text/html": [
       "<table border=\"1\" class=\"dataframe\">\n",
       "  <thead>\n",
       "    <tr style=\"text-align: right;\">\n",
       "      <th>City</th>\n",
       "      <th>Count</th>\n",
       "    </tr>\n",
       "  </thead>\n",
       "  <tbody>\n",
       "    <tr>\n",
       "      <td>Irvine</td>\n",
       "      <td>25346</td>\n",
       "    </tr>\n",
       "    <tr>\n",
       "      <td>Lake Forest</td>\n",
       "      <td>14552</td>\n",
       "    </tr>\n",
       "    <tr>\n",
       "      <td>Foothill Ranch</td>\n",
       "      <td>1601</td>\n",
       "    </tr>\n",
       "    <tr>\n",
       "      <td>Tustin</td>\n",
       "      <td>1012</td>\n",
       "    </tr>\n",
       "    <tr>\n",
       "      <td>Wólka Niedźwiedzka</td>\n",
       "      <td>116</td>\n",
       "    </tr>\n",
       "    <tr>\n",
       "      <td>Santa Ana</td>\n",
       "      <td>106</td>\n",
       "    </tr>\n",
       "    <tr>\n",
       "      <td>Orange</td>\n",
       "      <td>92</td>\n",
       "    </tr>\n",
       "    <tr>\n",
       "      <td>Mission Viejo</td>\n",
       "      <td>60</td>\n",
       "    </tr>\n",
       "    <tr>\n",
       "      <td>Costa Mesa</td>\n",
       "      <td>54</td>\n",
       "    </tr>\n",
       "    <tr>\n",
       "      <td>Newport Beach</td>\n",
       "      <td>40</td>\n",
       "    </tr>\n",
       "  </tbody>\n",
       "</table>"
      ],
      "text/plain": [
       "<IPython.core.display.HTML object>"
      ]
     },
     "metadata": {},
     "output_type": "display_data"
    }
   ],
   "source": [
    "from IPython.display import display, HTML\n",
    "display(HTML(cities_df.to_html(index=False)))"
   ]
  },
  {
   "cell_type": "code",
   "execution_count": null,
   "metadata": {
    "collapsed": true
   },
   "outputs": [],
   "source": []
  }
 ],
 "metadata": {
  "kernelspec": {
   "display_name": "Python 2",
   "language": "python",
   "name": "python2"
  },
  "language_info": {
   "codemirror_mode": {
    "name": "ipython",
    "version": 2
   },
   "file_extension": ".py",
   "mimetype": "text/x-python",
   "name": "python",
   "nbconvert_exporter": "python",
   "pygments_lexer": "ipython2",
   "version": "2.7.11"
  }
 },
 "nbformat": 4,
 "nbformat_minor": 0
}
