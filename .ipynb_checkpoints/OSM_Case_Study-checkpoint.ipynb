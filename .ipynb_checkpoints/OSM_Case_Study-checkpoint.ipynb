{
 "cells": [
  {
   "cell_type": "markdown",
   "metadata": {},
   "source": [
    "<img align=\"right\" src=\"https://raw.githubusercontent.com/dcblum/OpenStreetMap/master/IrvineMapBoundaries.PNG\" title=\"Irvine Map Extract Area\">\n",
    "\n",
    "# OpenStreetMap Case Study with SQL\n",
    "\n",
    "### Map Area: Irvine, California\n",
    "\n",
    "City Boundaries:\n",
    "* https://www.openstreetmap.org/relation/114485\n",
    "\n",
    "Map Extract Website:\n",
    "* https://mapzen.com/data/metro-extracts-alt/\n",
    "\n",
    "The Map Extract data extends beyond Irvine City limits in the shape of a rectangle. For the purpose of this dataset the any data in the given rectangular picture is considered to be in Irvine.\n",
    "\n",
    "#### Contents\n",
    " - [Problems Encountered](#problems-encountered)\n",
    "     - [Auditing Data](#auditing-data)\n",
    " - [Overview Statistics](#overview-statistics)\n",
    "     - [Postal Codes](#postal-codes)\n",
    "     - [City Count](#city-count)\n",
    "     - [File Sizes](#file-sizes)\n",
    "     - [Number of Nodes](#number-of-nodes)\n",
    "     - [Number of Ways](#number-of-ways)\n",
    "     - [Unique Users](#unique-users)\n",
    "     - [Additional Analyses](#additional-analyses)\n",
    "         - [Amenities](#amenities)\n",
    "         - [Types of Food](#types-of-food)\n",
    " - [Improvements](#improvements)"
   ]
  },
  {
   "cell_type": "code",
   "execution_count": 2,
   "metadata": {
    "collapsed": false,
    "scrolled": true
   },
   "outputs": [],
   "source": [
    "import sqlite3\n",
    "import pandas as pd\n",
    "import matplotlib.pyplot as plt\n",
    "import seaborn as sns\n",
    "\n",
    "# Allow plots to be printed inline in jupyter notebook\n",
    "%matplotlib inline\n",
    "\n",
    "# Fetch records from the database\n",
    "db = sqlite3.connect(\"IrvineMaps.db\")\n",
    "\n",
    "def execute_query(query):\n",
    "    '''Executes query in sqlite3'''\n",
    "    c = db.cursor()\n",
    "    c.execute(query)\n",
    "    rows = c.fetchall()\n",
    "    c.close()\n",
    "    return pd.DataFrame(rows)\n",
    "\n",
    "def print_query(df_name, column_names):\n",
    "    '''prints df in table with given column names'''\n",
    "    df_name.columns = column_names\n",
    "    from IPython.display import display, HTML\n",
    "    display(HTML(df_name.to_html(index=False)))\n",
    "    \n",
    "    \n",
    "def print_graph(df_name, column_names, graph_title):\n",
    "    '''prints df graph with first two column names and title'''\n",
    "    sns.barplot(x=df_name[1], y=df_name[0], orient='h', order = df_name[0], palette=\"Blues_d\")\n",
    "    sns.axlabel(column_names[1], column_names[0])\n",
    "\n",
    "    plt.title(graph_title)\n",
    "    plt.show()"
   ]
  },
  {
   "cell_type": "markdown",
   "metadata": {
    "collapsed": true
   },
   "source": [
    " ## Problems Encountered <a name=\"problems-encountered\"></a>\n",
    "\n",
    "After running the data agaisnt the given data.py file, a few problems were found:\n",
    "* Inconsistent use of abbreviations: ex. \"Rd.\", \"Rd\", and \"Road\" to all indicate \"Road\"\n",
    "* Use of intersection as address: ex. \"Avocado Av @ San Joaquin Hills Rd\"\n",
    "* Unicode string data for both Street and Postcode (street = 'Rue Jean Jaur\\xe8s' and postcode = '92626\\xad)\n",
    "* Postcode data contaning non-integer characters such as letters and hyphens: ex. \"CA 92701\" and \"92610-3437\""
   ]
  },
  {
   "cell_type": "markdown",
   "metadata": {
    "collapsed": false
   },
   "source": [
    "### Auditing Data <a name=\"auditing-data\"></a>\n",
    "\n",
    "IrvineMaps.db was audited via audit.py to help identify inconsistent use of abbreviations for both Postal Codes and Street Names. The OSM file was not modified; all corrections were made during the creation of the database in data.py. \n",
    "\n",
    "Postal codes not of length 5 were audited. It was viewed that splitting data on either a \" \" or \"-\" would fix multiple Postal Codes without creating dirty data.  There was only ever one item in the split with a length of 5; that item was taken to be the post code.\n",
    "\n",
    "~~~python\n",
    "postcode_split = re.split('[ -]', postcode)\n",
    "for item in postcode_split:\n",
    "    if len(item) == 5:\n",
    "        tags['value'] = item\n",
    "~~~\n",
    "\n",
    "Street Names ending in expected results were skipped during the the auditing process and were updated via function update_name.\n",
    "\n",
    "~~~python\n",
    "def update_name(name, mapping):\n",
    "    name_split = name.split()\n",
    "    for e in range(len(name_split)):\n",
    "        if name_split[e] in mapping:\n",
    "            name_split[e] = mapping[name_split[e]]\n",
    "    name = \" \".join(name_split)\n",
    "    return name\n",
    "~~~\n",
    "\n",
    "Only Postal Code and Street Data was audited. There are still errors in both data sets which include unicode characters: ex. 'Rue Jean Jaur\\xe8s'"
   ]
  },
  {
   "cell_type": "markdown",
   "metadata": {
    "collapsed": false
   },
   "source": [
    "## Overview Statistics of the Dataset <a name=\"overview-statistics\"></a>"
   ]
  },
  {
   "cell_type": "markdown",
   "metadata": {},
   "source": [
    "### Postal Codes <a name=\"postal-codes\"></a>"
   ]
  },
  {
   "cell_type": "code",
   "execution_count": 3,
   "metadata": {
    "collapsed": false
   },
   "outputs": [
    {
     "data": {
      "image/png": "[encoded data removed]",
      "text/plain": [
       "<matplotlib.figure.Figure at 0x4260470>"
      ]
     },
     "metadata": {},
     "output_type": "display_data"
    }
   ],
   "source": [
    "QUERY = ( \n",
    "    \"SELECT tags.value, COUNT(*) as count \"\n",
    "    \"FROM (SELECT * FROM nodes_tags UNION ALL SELECT * FROM ways_tags) tags \"\n",
    "    \"WHERE tags.key='postcode' \"\n",
    "    \"GROUP BY tags.value \"\n",
    "    \"ORDER BY count DESC \"\n",
    "    \"LIMIT 6;\"\n",
    "    )\n",
    "\n",
    "print_graph(execute_query(QUERY), ['Postcode', 'Count'], \"Top Postal Codes\")"
   ]
  },
  {
   "cell_type": "markdown",
   "metadata": {},
   "source": [
    "Top Postal Codes appear to be accurate with all codes beginning with \"926--\"."
   ]
  },
  {
   "cell_type": "markdown",
   "metadata": {},
   "source": [
    "### City Count <a name=\"city-count\"></a>"
   ]
  },
  {
   "cell_type": "code",
   "execution_count": 4,
   "metadata": {
    "collapsed": false
   },
   "outputs": [
    {
     "data": {
      "image/png": "[encoded data removed]",
      "text/plain": [
       "<matplotlib.figure.Figure at 0xa8c3a58>"
      ]
     },
     "metadata": {},
     "output_type": "display_data"
    }
   ],
   "source": [
    "QUERY = ( \n",
    "    \"SELECT tags.value, COUNT(*) as count \"\n",
    "    \"FROM (SELECT * FROM nodes_tags UNION ALL SELECT * FROM ways_tags) tags \"\n",
    "    \"WHERE tags.key ='city' \"\n",
    "    \"GROUP BY tags.value \"\n",
    "    \"ORDER BY count DESC \"\n",
    "    \"LIMIT 6;\"\n",
    "    )\n",
    "\n",
    "print_graph(execute_query(QUERY), ['City', 'Count'], \"Top Cities\")"
   ]
  },
  {
   "cell_type": "markdown",
   "metadata": {},
   "source": [
    "Top cities appear to be accurate except for Wólka Niedźwiedzka. There is no city surrounding Irvine with any such name."
   ]
  },
  {
   "cell_type": "markdown",
   "metadata": {},
   "source": [
    "### File Sizes <a name=\"file-sizes\"></a>\n",
    "~~~\n",
    "Irvine.osm .......... 91 MB\n",
    "IrvineMaps.db ....... 58 MB\n",
    "nodes.csv ........... 28 MB\n",
    "nodes_tags.csv ...... 7 MB\n",
    "ways.csv ............ 3 MB\n",
    "ways_nodes.csv ...... 10 MB\n",
    "ways_tags.csv ....... 11 MB\n",
    "~~~"
   ]
  },
  {
   "cell_type": "markdown",
   "metadata": {},
   "source": [
    "### Number of Nodes <a name=\"number-of-nodes\"></a>"
   ]
  },
  {
   "cell_type": "code",
   "execution_count": 5,
   "metadata": {
    "collapsed": false
   },
   "outputs": [
    {
     "data": {
      "text/html": [
       "<table border=\"1\" class=\"dataframe\">\n",
       "  <thead>\n",
       "    <tr style=\"text-align: right;\">\n",
       "      <th># of Nodes</th>\n",
       "    </tr>\n",
       "  </thead>\n",
       "  <tbody>\n",
       "    <tr>\n",
       "      <td>345345</td>\n",
       "    </tr>\n",
       "  </tbody>\n",
       "</table>"
      ],
      "text/plain": [
       "<IPython.core.display.HTML object>"
      ]
     },
     "metadata": {},
     "output_type": "display_data"
    }
   ],
   "source": [
    "QUERY = \"SELECT COUNT(*) FROM nodes;\"\n",
    "\n",
    "print_query(execute_query(QUERY), ['# of Nodes'])"
   ]
  },
  {
   "cell_type": "markdown",
   "metadata": {},
   "source": [
    "### Number of Ways <a name=\"number-of-ways\"></a>"
   ]
  },
  {
   "cell_type": "code",
   "execution_count": 6,
   "metadata": {
    "collapsed": false
   },
   "outputs": [
    {
     "data": {
      "text/html": [
       "<table border=\"1\" class=\"dataframe\">\n",
       "  <thead>\n",
       "    <tr style=\"text-align: right;\">\n",
       "      <th># of Ways</th>\n",
       "    </tr>\n",
       "  </thead>\n",
       "  <tbody>\n",
       "    <tr>\n",
       "      <td>66056</td>\n",
       "    </tr>\n",
       "  </tbody>\n",
       "</table>"
      ],
      "text/plain": [
       "<IPython.core.display.HTML object>"
      ]
     },
     "metadata": {},
     "output_type": "display_data"
    }
   ],
   "source": [
    "QUERY = \"SELECT COUNT(*) FROM ways;\"\n",
    "\n",
    "print_query(execute_query(QUERY), ['# of Ways'])"
   ]
  },
  {
   "cell_type": "markdown",
   "metadata": {},
   "source": [
    "### Unique Users <a name=\"unique-users\"></a>"
   ]
  },
  {
   "cell_type": "code",
   "execution_count": 7,
   "metadata": {
    "collapsed": false
   },
   "outputs": [
    {
     "data": {
      "text/html": [
       "<table border=\"1\" class=\"dataframe\">\n",
       "  <thead>\n",
       "    <tr style=\"text-align: right;\">\n",
       "      <th>Unique Users</th>\n",
       "    </tr>\n",
       "  </thead>\n",
       "  <tbody>\n",
       "    <tr>\n",
       "      <td>2008</td>\n",
       "    </tr>\n",
       "  </tbody>\n",
       "</table>"
      ],
      "text/plain": [
       "<IPython.core.display.HTML object>"
      ]
     },
     "metadata": {},
     "output_type": "display_data"
    }
   ],
   "source": [
    "QUERY = (\n",
    "    \"SELECT COUNT(DISTINCT(uid)) \"\n",
    "    \"FROM (SELECT uid FROM nodes UNION ALL SELECT uid FROM ways) uid; \"\n",
    "    )\n",
    "\n",
    "print_query(execute_query(QUERY), ['Unique Users'])"
   ]
  },
  {
   "cell_type": "markdown",
   "metadata": {},
   "source": [
    "### Additional Analyses <a name=\"additional-analyses\"></a>"
   ]
  },
  {
   "cell_type": "markdown",
   "metadata": {},
   "source": [
    "##### Amenities <a name=\"amenities\"></a>"
   ]
  },
  {
   "cell_type": "code",
   "execution_count": 8,
   "metadata": {
    "collapsed": false
   },
   "outputs": [
    {
     "data": {
      "image/png": "[encoded data removed]",
      "text/plain": [
       "<matplotlib.figure.Figure at 0xa66edd8>"
      ]
     },
     "metadata": {},
     "output_type": "display_data"
    }
   ],
   "source": [
    "QUERY = (\n",
    "    \"SELECT value, COUNT(*) as num \"\n",
    "    \"FROM nodes_tags \"\n",
    "    \"WHERE key='amenity' \"\n",
    "    \"GROUP BY value \"\n",
    "    \"ORDER BY num DESC \"\n",
    "    \"LIMIT 10;\"\n",
    "    )\n",
    "\n",
    "print_graph(execute_query(QUERY), ['Amenity', 'Count'], \"Top 10 Amenities\")"
   ]
  },
  {
   "cell_type": "markdown",
   "metadata": {},
   "source": [
    "Top Amenities appear to be mostly food-related. Bicycle parking is also popular; Irvine has a fairly flat and featureless topography making it easy for cyclists to traverse the city."
   ]
  },
  {
   "cell_type": "markdown",
   "metadata": {},
   "source": [
    "##### Types of Food <a name=\"types-of-food\"></a>"
   ]
  },
  {
   "cell_type": "code",
   "execution_count": 9,
   "metadata": {
    "collapsed": false
   },
   "outputs": [
    {
     "data": {
      "image/png": "[encoded data removed]",
      "text/plain": [
       "<matplotlib.figure.Figure at 0xacdc630>"
      ]
     },
     "metadata": {},
     "output_type": "display_data"
    }
   ],
   "source": [
    "QUERY = (\n",
    "    \"SELECT nodes_tags.value, COUNT(*) as num \"\n",
    "    \"FROM nodes_tags \"\n",
    "    \"WHERE nodes_tags.key='cuisine' \"\n",
    "    \"GROUP BY nodes_tags.value \"\n",
    "    \"ORDER BY num DESC \"\n",
    "    \"LIMIT 10; \"\n",
    "    )\n",
    "\n",
    "print_graph(execute_query(QUERY), ['Type of Food', 'Count'], \"Top Ten Types of Food\")"
   ]
  },
  {
   "cell_type": "markdown",
   "metadata": {},
   "source": [
    "Mexican food is highest in popularity; it is nearly doubles the second-highest type of food (burgers)."
   ]
  },
  {
   "cell_type": "markdown",
   "metadata": {
    "collapsed": true
   },
   "source": [
    "# Improvements <a name=\"improvements\"></a>\n",
    "\n",
    "For better and further analysis it is recommended to look further into:\n",
    "\n",
    "#### Unicode Data\n",
    "     \n",
    "    The amount of unicode data appears to be minimal, but for more accurate data analysis it should be audited.\n",
    "    \n",
    "#### Wólka Niedźwiedzka \n",
    "    This city is listed as one of the top cities surrounding Irvine; Wólka Niedźwiedzka is a village in Poland and nowhere near Irvine. The tags associated with the city should be inspected and potentially not included in analysis. There are approximately 100 tags.\n",
    "\n",
    "#### Cross Streets as Street Names\n",
    "\n",
    "    There are multiple instances of cross streets being listed as a street name. These tags need to be inspected and fixed by hand.\n",
    "\n",
    "Auditing all three recommended improvements would further enhance the accuracy of the analysis. The Unicode data contains accurate street names and postal codes whereas the Wólka Niedźwiedzka tags and the cross streets tags likely contain misleading and/or incorrect information.\n",
    "\n",
    "The major downside to more auditing is additional manpower and time. Whereas the unicode data could be fixed via a program, the city tags of Wólka Niedźwiedzka and the Cross Streets names would have to be inspected and fixed by hand. The amount of information fixed from these three areas is not guarunteed to have a significant effect on the analysis, however it technically would be more accurate.\n",
    "\n",
    "The graphs and data mentioned in this document are not representational of the entire database; there are additional areas to be explored and analyzed. Further exploration will most likely lead to discovery of additional dirty data requiring more manpower and time to fix. "
   ]
  },
  {
   "cell_type": "code",
   "execution_count": null,
   "metadata": {
    "collapsed": true
   },
   "outputs": [],
   "source": []
  }
 ],
 "metadata": {
  "kernelspec": {
   "display_name": "Python 2",
   "language": "python",
   "name": "python2"
  },
  "language_info": {
   "codemirror_mode": {
    "name": "ipython",
    "version": 2
   },
   "file_extension": ".py",
   "mimetype": "text/x-python",
   "name": "python",
   "nbconvert_exporter": "python",
   "pygments_lexer": "ipython2",
   "version": "2.7.11"
  }
 },
 "nbformat": 4,
 "nbformat_minor": 0
}
