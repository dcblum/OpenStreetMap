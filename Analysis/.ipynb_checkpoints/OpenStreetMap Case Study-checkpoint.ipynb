{
 "cells": [
  {
   "cell_type": "markdown",
   "metadata": {},
   "source": [
    "# Open Street Map Case Study: Irvine, California\n",
    "\n",
    "### Map Area\n",
    "\n",
    "<img align=\"right\" src=\"IrvineMapExtract.png\">\n",
    "\n",
    "City Boundaries:\n",
    "* https://www.openstreetmap.org/relation/114485\n",
    "\n",
    "Map Extract Website:\n",
    "* https://mapzen.com/data/metro-extracts-alt/\n",
    "\n",
    "\n",
    "\n",
    "\n",
    "Because the \"Map Extract Website\" extracts only rectangular shapes; the city boundries of Irvine of Irvine \n",
    "\n"
   ]
  },
  {
   "cell_type": "code",
   "execution_count": null,
   "metadata": {
    "collapsed": true
   },
   "outputs": [],
   "source": []
  }
 ],
 "metadata": {
  "kernelspec": {
   "display_name": "Python 2",
   "language": "python",
   "name": "python2"
  },
  "language_info": {
   "codemirror_mode": {
    "name": "ipython",
    "version": 2
   },
   "file_extension": ".py",
   "mimetype": "text/x-python",
   "name": "python",
   "nbconvert_exporter": "python",
   "pygments_lexer": "ipython2",
   "version": "2.7.11"
  }
 },
 "nbformat": 4,
 "nbformat_minor": 0
}
